{
 "cells": [
  {
   "cell_type": "code",
   "execution_count": 1,
   "id": "actual-vault",
   "metadata": {},
   "outputs": [],
   "source": [
    "#%matplotlib widgets\n",
    "#this is a almost \"for free\" way to get interactivity\n",
    "\n",
    "import matplotlib.pyplot as plt\n",
    "import matplotlib\n",
    "\n",
    "import numpy as np\n",
    "\n",
    "\n",
    "# import the pandas package\n",
    "import pandas as pd\n"
   ]
  },
  {
   "cell_type": "code",
   "execution_count": 2,
   "id": "healthy-walnut",
   "metadata": {},
   "outputs": [],
   "source": [
    "# loading from a local location\n",
    "buildings = pd.read_csv(\"/Users/chanmitk/Downloads/building_inventory.csv\")\n"
   ]
  },
  {
   "cell_type": "code",
   "execution_count": 4,
   "id": "fitted-cologne",
   "metadata": {},
   "outputs": [
    {
     "data": {
      "text/plain": [
       "Index(['Agency Name', 'Location Name', 'Address', 'City', 'Zip code', 'County',\n",
       "       'Congress Dist', 'Congressional Full Name', 'Rep Dist', 'Rep Full Name',\n",
       "       'Senate Dist', 'Senator Full Name', 'Bldg Status', 'Year Acquired',\n",
       "       'Year Constructed', 'Square Footage', 'Total Floors',\n",
       "       'Floors Above Grade', 'Floors Below Grade', 'Usage Description',\n",
       "       'Usage Description 2', 'Usage Description 3'],\n",
       "      dtype='object')"
      ]
     },
     "execution_count": 4,
     "metadata": {},
     "output_type": "execute_result"
    }
   ],
   "source": [
    "# displaying all the column names in 'buildings'\n",
    "buildings.columns"
   ]
  },
  {
   "cell_type": "code",
   "execution_count": 6,
   "id": "reflected-health",
   "metadata": {},
   "outputs": [
    {
     "data": {
      "text/html": [
       "<div>\n",
       "<style scoped>\n",
       "    .dataframe tbody tr th:only-of-type {\n",
       "        vertical-align: middle;\n",
       "    }\n",
       "\n",
       "    .dataframe tbody tr th {\n",
       "        vertical-align: top;\n",
       "    }\n",
       "\n",
       "    .dataframe thead th {\n",
       "        text-align: right;\n",
       "    }\n",
       "</style>\n",
       "<table border=\"1\" class=\"dataframe\">\n",
       "  <thead>\n",
       "    <tr style=\"text-align: right;\">\n",
       "      <th></th>\n",
       "      <th>Year Acquired</th>\n",
       "      <th>Year Constructed</th>\n",
       "    </tr>\n",
       "  </thead>\n",
       "  <tbody>\n",
       "    <tr>\n",
       "      <th>0</th>\n",
       "      <td>1975</td>\n",
       "      <td>1975</td>\n",
       "    </tr>\n",
       "    <tr>\n",
       "      <th>1</th>\n",
       "      <td>2004</td>\n",
       "      <td>2004</td>\n",
       "    </tr>\n",
       "    <tr>\n",
       "      <th>2</th>\n",
       "      <td>2004</td>\n",
       "      <td>2004</td>\n",
       "    </tr>\n",
       "    <tr>\n",
       "      <th>3</th>\n",
       "      <td>2004</td>\n",
       "      <td>2004</td>\n",
       "    </tr>\n",
       "    <tr>\n",
       "      <th>4</th>\n",
       "      <td>2004</td>\n",
       "      <td>2004</td>\n",
       "    </tr>\n",
       "    <tr>\n",
       "      <th>...</th>\n",
       "      <td>...</td>\n",
       "      <td>...</td>\n",
       "    </tr>\n",
       "    <tr>\n",
       "      <th>8857</th>\n",
       "      <td>0</td>\n",
       "      <td>0</td>\n",
       "    </tr>\n",
       "    <tr>\n",
       "      <th>8858</th>\n",
       "      <td>0</td>\n",
       "      <td>0</td>\n",
       "    </tr>\n",
       "    <tr>\n",
       "      <th>8859</th>\n",
       "      <td>0</td>\n",
       "      <td>1987</td>\n",
       "    </tr>\n",
       "    <tr>\n",
       "      <th>8860</th>\n",
       "      <td>1971</td>\n",
       "      <td>1971</td>\n",
       "    </tr>\n",
       "    <tr>\n",
       "      <th>8861</th>\n",
       "      <td>0</td>\n",
       "      <td>2017</td>\n",
       "    </tr>\n",
       "  </tbody>\n",
       "</table>\n",
       "<p>8862 rows × 2 columns</p>\n",
       "</div>"
      ],
      "text/plain": [
       "      Year Acquired  Year Constructed\n",
       "0              1975              1975\n",
       "1              2004              2004\n",
       "2              2004              2004\n",
       "3              2004              2004\n",
       "4              2004              2004\n",
       "...             ...               ...\n",
       "8857              0                 0\n",
       "8858              0                 0\n",
       "8859              0              1987\n",
       "8860           1971              1971\n",
       "8861              0              2017\n",
       "\n",
       "[8862 rows x 2 columns]"
      ]
     },
     "execution_count": 6,
     "metadata": {},
     "output_type": "execute_result"
    }
   ],
   "source": [
    "# displaying these two columns\n",
    "buildings[['Year Acquired', 'Year Constructed']]"
   ]
  },
  {
   "cell_type": "code",
   "execution_count": 12,
   "id": "isolated-length",
   "metadata": {},
   "outputs": [
    {
     "data": {
      "text/plain": [
       "Text(0.5, 0, 'Year Acquired')"
      ]
     },
     "execution_count": 12,
     "metadata": {},
     "output_type": "execute_result"
    },
    {
     "data": {
      "image/png": "[encoded data removed]",
      "text/plain": [
       "<Figure size 432x288 with 1 Axes>"
      ]
     },
     "metadata": {
      "needs_background": "light"
     },
     "output_type": "display_data"
    }
   ],
   "source": [
    "#plotting data on a scatter plot these two columns to show their relationship\n",
    "plt.scatter(buildings['Year Acquired'], buildings['Year Constructed'])\n",
    "plt.ylabel(\"Year Constructed\")\n",
    "plt.xlabel(\"Year Acquired\")"
   ]
  },
  {
   "cell_type": "code",
   "execution_count": 16,
   "id": "cloudy-oregon",
   "metadata": {},
   "outputs": [
    {
     "data": {
      "text/plain": [
       "array([17, 15, 16, 18, 11, 12,  3, 13,  6,  0, 14,  7,  8,  9,  2,  1, 10,\n",
       "        5,  4])"
      ]
     },
     "execution_count": 16,
     "metadata": {},
     "output_type": "execute_result"
    }
   ],
   "source": [
    "# checking what type of data is \"Congress Dist\". It's both numberical and categorical data.\n",
    "buildings['Congress Dist'].unique()"
   ]
  },
  {
   "cell_type": "code",
   "execution_count": 35,
   "id": "opened-cheese",
   "metadata": {},
   "outputs": [],
   "source": [
    "# grouped by \"Congress Dist\" and got the total square footage for each district.\n",
    "total_sqft_per_dist = buildings.groupby(\"Congress Dist\")[\"Square Footage\"].sum()"
   ]
  },
  {
   "cell_type": "code",
   "execution_count": 36,
   "id": "binding-display",
   "metadata": {},
   "outputs": [
    {
     "data": {
      "text/plain": [
       "Text(0, 0.5, 'Total Square Footage')"
      ]
     },
     "execution_count": 36,
     "metadata": {},
     "output_type": "execute_result"
    },
    {
     "data": {
      "image/png": "[encoded data removed]",
      "text/plain": [
       "<Figure size 432x288 with 1 Axes>"
      ]
     },
     "metadata": {
      "needs_background": "light"
     },
     "output_type": "display_data"
    }
   ],
   "source": [
    "# Plotting a bar graph displaying in which Congress District has how much total square footage.\n",
    "total_sqft_per_dist.plot.bar()\n",
    "plt.ylabel(\"Total Square Footage\")"
   ]
  },
  {
   "cell_type": "code",
   "execution_count": 38,
   "id": "fresh-manchester",
   "metadata": {},
   "outputs": [],
   "source": [
    "# grouped by \"congress dist\" and got the total number of floors per congress district.\n",
    "total_floors_per_dist = buildings.groupby(\"Congress Dist\")[\"Total Floors\"].sum()"
   ]
  },
  {
   "cell_type": "code",
   "execution_count": 40,
   "id": "engaged-associate",
   "metadata": {},
   "outputs": [],
   "source": [
    "# Divided total number of square footage per dist by total floors per dist to get the average square footage per floor per district.\n",
    "avg_sqft_per_floor_per_dist = total_sqft_per_dist/total_floors_per_dist"
   ]
  },
  {
   "cell_type": "code",
   "execution_count": 41,
   "id": "bulgarian-grass",
   "metadata": {},
   "outputs": [
    {
     "data": {
      "text/plain": [
       "<matplotlib.axes._subplots.AxesSubplot at 0x7fc83c115450>"
      ]
     },
     "execution_count": 41,
     "metadata": {},
     "output_type": "execute_result"
    },
    {
     "data": {
      "image/png": "[encoded data removed]",
      "text/plain": [
       "<Figure size 432x288 with 1 Axes>"
      ]
     },
     "metadata": {
      "needs_background": "light"
     },
     "output_type": "display_data"
    }
   ],
   "source": [
    "# Plotted a bar graph to display the average square footage per floor as a function of congression district\n",
    "avg_sqft_per_floor_per_dist.plot.bar()\n",
    "plt.ylabel(\"Average Square Footage Per Floor\")"
   ]
  },
  {
   "cell_type": "markdown",
   "id": "reported-annual",
   "metadata": {},
   "source": [
    "# Write Up\n",
    "I did the first three in the list to visualize. The hardest part of the process was figuring out which plotting method (scatter plot vs. Bar graph) to use. I hope doing the weekly data visualization report will give me a lot of exposures to different types of data and data visualization so I can learn how to apply the optimal visualization to display my data in the most effective way. This homework helped me master how to plot bar graphs using matplotlib.pyplot and labeling y-axis and x-axis. Helpful things when I was plotting data was to first find what type of data I was handling. For example, \"Congress Dist\" was a numerical data but also categorical that each number of congressional district was categorizing data. Understanding the type of data is important when you are chossing what plotting to use. When I plotted the 'Relationship between the year acquired and the year constructed', it looked really weird just plotting. I had to change it to a scatter plot to make it more visually appealing. I think sometimes the best way to figure out the optimal plot is to try things and see which one works the best."
   ]
  },
  {
   "cell_type": "code",
   "execution_count": null,
   "id": "recovered-muslim",
   "metadata": {},
   "outputs": [],
   "source": []
  }
 ],
 "metadata": {
  "kernelspec": {
   "display_name": "Python 3",
   "language": "python",
   "name": "python3"
  },
  "language_info": {
   "codemirror_mode": {
    "name": "ipython",
    "version": 3
   },
   "file_extension": ".py",
   "mimetype": "text/x-python",
   "name": "python",
   "nbconvert_exporter": "python",
   "pygments_lexer": "ipython3",
   "version": "3.7.9"
  }
 },
 "nbformat": 4,
 "nbformat_minor": 5
}
